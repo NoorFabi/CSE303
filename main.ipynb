{
  "nbformat": 4,
  "nbformat_minor": 0,
  "metadata": {
    "colab": {
      "provenance": []
    },
    "kernelspec": {
      "name": "python3",
      "display_name": "Python 3"
    },
    "language_info": {
      "name": "python"
    }
  },
  "cells": [
    {
      "cell_type": "code",
      "execution_count": null,
      "metadata": {
        "id": "vXNhDB18AFmq"
      },
      "outputs": [],
      "source": [
        "import pandas as pd\n",
        "import numpy as np\n",
        "import matplotlib.pyplot as plt\n",
        "import seaborn as sns"
      ]
    },
    {
      "cell_type": "code",
      "source": [
        "train = pd.read_csv(\"/content/drive/MyDrive/Dataset/train.csv\")\n",
        "test = pd.read_csv(\"/content/drive/MyDrive/Dataset/test.csv\")"
      ],
      "metadata": {
        "id": "EdUK8FDxZdWp"
      },
      "execution_count": null,
      "outputs": []
    },
    {
      "cell_type": "code",
      "source": [
        "row_id = test[\"row_id\"]\n",
        "test.drop(\"row_id\", axis = 1, inplace = True)\n",
        "train.drop(\"row_id\", axis = 1, inplace = True)\n",
        "print(train.head())"
      ],
      "metadata": {
        "colab": {
          "base_uri": "https://localhost:8080/"
        },
        "id": "Yta9AkyqZsrJ",
        "outputId": "b28f7898-06a6-4656-aceb-882d5cf1e683"
      },
      "execution_count": null,
      "outputs": [
        {
          "output_type": "stream",
          "name": "stdout",
          "text": [
            "      A0T0G0C10  A0T0G1C9  A0T0G2C8  A0T0G3C7  A0T0G4C6  A0T0G5C5  A0T0G6C4  \\\n",
            "0 -9.540000e-07 -0.000010 -0.000043 -0.000114 -0.000200 -0.000240 -0.000200   \n",
            "1 -9.540000e-07 -0.000010 -0.000043  0.000886 -0.000200  0.000760 -0.000200   \n",
            "2 -9.540000e-07 -0.000002  0.000007  0.000129  0.000268  0.000270  0.000243   \n",
            "3  4.630000e-08 -0.000006  0.000012  0.000245  0.000492  0.000522  0.000396   \n",
            "4 -9.540000e-07 -0.000010 -0.000043 -0.000114 -0.000200 -0.000240 -0.000200   \n",
            "\n",
            "   A0T0G7C3  A0T0G8C2  A0T0G9C1  ...  A8T0G1C1  A8T0G2C0  A8T1G0C1  A8T1G1C0  \\\n",
            "0 -0.000114 -0.000043 -0.000010  ... -0.000086 -0.000043 -0.000086 -0.000086   \n",
            "1 -0.000114 -0.000043 -0.000010  ... -0.000086 -0.000043  0.000914  0.000914   \n",
            "2  0.000125  0.000001 -0.000007  ...  0.000084  0.000048  0.000081  0.000106   \n",
            "3  0.000197 -0.000003 -0.000007  ...  0.000151  0.000100  0.000180  0.000202   \n",
            "4 -0.000114 -0.000043 -0.000010  ... -0.000086 -0.000043 -0.000086 -0.000086   \n",
            "\n",
            "   A8T2G0C0  A9T0G0C1  A9T0G1C0  A9T1G0C0     A10T0G0C0  \\\n",
            "0 -0.000043 -0.000010 -0.000010 -0.000010 -9.540000e-07   \n",
            "1 -0.000043 -0.000010 -0.000010 -0.000010 -9.540000e-07   \n",
            "2  0.000072  0.000010  0.000008  0.000019  1.050000e-06   \n",
            "3  0.000153  0.000022  0.000016  0.000046 -9.540000e-07   \n",
            "4 -0.000043 -0.000010 -0.000010 -0.000010 -9.540000e-07   \n",
            "\n",
            "                   target  \n",
            "0  Streptococcus_pyogenes  \n",
            "1     Salmonella_enterica  \n",
            "2     Salmonella_enterica  \n",
            "3     Salmonella_enterica  \n",
            "4      Enterococcus_hirae  \n",
            "\n",
            "[5 rows x 287 columns]\n"
          ]
        }
      ]
    },
    {
      "cell_type": "code",
      "source": [
        "test.isnull().sum()\n",
        "test.fillna(0, inplace=True)\n",
        "train.isnull().sum()\n",
        "train.fillna(0, inplace=True)"
      ],
      "metadata": {
        "id": "T99kP38HZwex"
      },
      "execution_count": null,
      "outputs": []
    },
    {
      "cell_type": "code",
      "source": [
        "print(f'Duplicates in training set: {train.duplicated().sum()}')\n",
        "print(f'Duplicates in test set: {test.duplicated().sum()}')\n",
        "\n",
        "train.drop_duplicates(inplace=True)\n",
        "test.drop_duplicates(inplace=True)"
      ],
      "metadata": {
        "colab": {
          "base_uri": "https://localhost:8080/"
        },
        "id": "s-RzVXG7ZxK4",
        "outputId": "5853b125-6515-4ebf-c4c3-793d1133b325"
      },
      "execution_count": null,
      "outputs": [
        {
          "output_type": "stream",
          "name": "stdout",
          "text": [
            "Duplicates in training set: 76007\n",
            "Duplicates in test set: 26779\n"
          ]
        }
      ]
    },
    {
      "cell_type": "code",
      "source": [
        "from sklearn.preprocessing import LabelEncoder\n",
        "le = LabelEncoder()\n",
        "train['target'] = le.fit_transform(train['target'])"
      ],
      "metadata": {
        "id": "K5N2Fn1FZ0tp"
      },
      "execution_count": null,
      "outputs": []
    },
    {
      "cell_type": "code",
      "source": [
        "Y = train.loc[:, 'target']\n",
        "Y.head()\n",
        "X = train.loc[:,:]\n",
        "X.drop('target', inplace = True, axis = 1)\n",
        "X.head()"
      ],
      "metadata": {
        "colab": {
          "base_uri": "https://localhost:8080/",
          "height": 386
        },
        "id": "GQ4nS-FBZ2vJ",
        "outputId": "388a180f-16b5-4500-bdfc-d6293d0c52bc"
      },
      "execution_count": null,
      "outputs": [
        {
          "output_type": "execute_result",
          "data": {
            "text/plain": [
              "      A0T0G0C10  A0T0G1C9  A0T0G2C8  A0T0G3C7  A0T0G4C6  A0T0G5C5  A0T0G6C4  \\\n",
              "0 -9.540000e-07 -0.000010 -0.000043 -0.000114 -0.000200 -0.000240 -0.000200   \n",
              "1 -9.540000e-07 -0.000010 -0.000043  0.000886 -0.000200  0.000760 -0.000200   \n",
              "2 -9.540000e-07 -0.000002  0.000007  0.000129  0.000268  0.000270  0.000243   \n",
              "3  4.630000e-08 -0.000006  0.000012  0.000245  0.000492  0.000522  0.000396   \n",
              "4 -9.540000e-07 -0.000010 -0.000043 -0.000114 -0.000200 -0.000240 -0.000200   \n",
              "\n",
              "   A0T0G7C3  A0T0G8C2  A0T0G9C1  ...  A8T0G0C2  A8T0G1C1  A8T0G2C0  A8T1G0C1  \\\n",
              "0 -0.000114 -0.000043 -0.000010  ... -0.000043 -0.000086 -0.000043 -0.000086   \n",
              "1 -0.000114 -0.000043 -0.000010  ... -0.000043 -0.000086 -0.000043  0.000914   \n",
              "2  0.000125  0.000001 -0.000007  ...  0.000042  0.000084  0.000048  0.000081   \n",
              "3  0.000197 -0.000003 -0.000007  ...  0.000068  0.000151  0.000100  0.000180   \n",
              "4 -0.000114 -0.000043 -0.000010  ... -0.000043 -0.000086 -0.000043 -0.000086   \n",
              "\n",
              "   A8T1G1C0  A8T2G0C0  A9T0G0C1  A9T0G1C0  A9T1G0C0     A10T0G0C0  \n",
              "0 -0.000086 -0.000043 -0.000010 -0.000010 -0.000010 -9.540000e-07  \n",
              "1  0.000914 -0.000043 -0.000010 -0.000010 -0.000010 -9.540000e-07  \n",
              "2  0.000106  0.000072  0.000010  0.000008  0.000019  1.050000e-06  \n",
              "3  0.000202  0.000153  0.000022  0.000016  0.000046 -9.540000e-07  \n",
              "4 -0.000086 -0.000043 -0.000010 -0.000010 -0.000010 -9.540000e-07  \n",
              "\n",
              "[5 rows x 286 columns]"
            ],
            "text/html": [
              "\n",
              "  <div id=\"df-029870e4-14a7-40e2-9c4e-67650e3f7af4\">\n",
              "    <div class=\"colab-df-container\">\n",
              "      <div>\n",
              "<style scoped>\n",
              "    .dataframe tbody tr th:only-of-type {\n",
              "        vertical-align: middle;\n",
              "    }\n",
              "\n",
              "    .dataframe tbody tr th {\n",
              "        vertical-align: top;\n",
              "    }\n",
              "\n",
              "    .dataframe thead th {\n",
              "        text-align: right;\n",
              "    }\n",
              "</style>\n",
              "<table border=\"1\" class=\"dataframe\">\n",
              "  <thead>\n",
              "    <tr style=\"text-align: right;\">\n",
              "      <th></th>\n",
              "      <th>A0T0G0C10</th>\n",
              "      <th>A0T0G1C9</th>\n",
              "      <th>A0T0G2C8</th>\n",
              "      <th>A0T0G3C7</th>\n",
              "      <th>A0T0G4C6</th>\n",
              "      <th>A0T0G5C5</th>\n",
              "      <th>A0T0G6C4</th>\n",
              "      <th>A0T0G7C3</th>\n",
              "      <th>A0T0G8C2</th>\n",
              "      <th>A0T0G9C1</th>\n",
              "      <th>...</th>\n",
              "      <th>A8T0G0C2</th>\n",
              "      <th>A8T0G1C1</th>\n",
              "      <th>A8T0G2C0</th>\n",
              "      <th>A8T1G0C1</th>\n",
              "      <th>A8T1G1C0</th>\n",
              "      <th>A8T2G0C0</th>\n",
              "      <th>A9T0G0C1</th>\n",
              "      <th>A9T0G1C0</th>\n",
              "      <th>A9T1G0C0</th>\n",
              "      <th>A10T0G0C0</th>\n",
              "    </tr>\n",
              "  </thead>\n",
              "  <tbody>\n",
              "    <tr>\n",
              "      <th>0</th>\n",
              "      <td>-9.540000e-07</td>\n",
              "      <td>-0.000010</td>\n",
              "      <td>-0.000043</td>\n",
              "      <td>-0.000114</td>\n",
              "      <td>-0.000200</td>\n",
              "      <td>-0.000240</td>\n",
              "      <td>-0.000200</td>\n",
              "      <td>-0.000114</td>\n",
              "      <td>-0.000043</td>\n",
              "      <td>-0.000010</td>\n",
              "      <td>...</td>\n",
              "      <td>-0.000043</td>\n",
              "      <td>-0.000086</td>\n",
              "      <td>-0.000043</td>\n",
              "      <td>-0.000086</td>\n",
              "      <td>-0.000086</td>\n",
              "      <td>-0.000043</td>\n",
              "      <td>-0.000010</td>\n",
              "      <td>-0.000010</td>\n",
              "      <td>-0.000010</td>\n",
              "      <td>-9.540000e-07</td>\n",
              "    </tr>\n",
              "    <tr>\n",
              "      <th>1</th>\n",
              "      <td>-9.540000e-07</td>\n",
              "      <td>-0.000010</td>\n",
              "      <td>-0.000043</td>\n",
              "      <td>0.000886</td>\n",
              "      <td>-0.000200</td>\n",
              "      <td>0.000760</td>\n",
              "      <td>-0.000200</td>\n",
              "      <td>-0.000114</td>\n",
              "      <td>-0.000043</td>\n",
              "      <td>-0.000010</td>\n",
              "      <td>...</td>\n",
              "      <td>-0.000043</td>\n",
              "      <td>-0.000086</td>\n",
              "      <td>-0.000043</td>\n",
              "      <td>0.000914</td>\n",
              "      <td>0.000914</td>\n",
              "      <td>-0.000043</td>\n",
              "      <td>-0.000010</td>\n",
              "      <td>-0.000010</td>\n",
              "      <td>-0.000010</td>\n",
              "      <td>-9.540000e-07</td>\n",
              "    </tr>\n",
              "    <tr>\n",
              "      <th>2</th>\n",
              "      <td>-9.540000e-07</td>\n",
              "      <td>-0.000002</td>\n",
              "      <td>0.000007</td>\n",
              "      <td>0.000129</td>\n",
              "      <td>0.000268</td>\n",
              "      <td>0.000270</td>\n",
              "      <td>0.000243</td>\n",
              "      <td>0.000125</td>\n",
              "      <td>0.000001</td>\n",
              "      <td>-0.000007</td>\n",
              "      <td>...</td>\n",
              "      <td>0.000042</td>\n",
              "      <td>0.000084</td>\n",
              "      <td>0.000048</td>\n",
              "      <td>0.000081</td>\n",
              "      <td>0.000106</td>\n",
              "      <td>0.000072</td>\n",
              "      <td>0.000010</td>\n",
              "      <td>0.000008</td>\n",
              "      <td>0.000019</td>\n",
              "      <td>1.050000e-06</td>\n",
              "    </tr>\n",
              "    <tr>\n",
              "      <th>3</th>\n",
              "      <td>4.630000e-08</td>\n",
              "      <td>-0.000006</td>\n",
              "      <td>0.000012</td>\n",
              "      <td>0.000245</td>\n",
              "      <td>0.000492</td>\n",
              "      <td>0.000522</td>\n",
              "      <td>0.000396</td>\n",
              "      <td>0.000197</td>\n",
              "      <td>-0.000003</td>\n",
              "      <td>-0.000007</td>\n",
              "      <td>...</td>\n",
              "      <td>0.000068</td>\n",
              "      <td>0.000151</td>\n",
              "      <td>0.000100</td>\n",
              "      <td>0.000180</td>\n",
              "      <td>0.000202</td>\n",
              "      <td>0.000153</td>\n",
              "      <td>0.000022</td>\n",
              "      <td>0.000016</td>\n",
              "      <td>0.000046</td>\n",
              "      <td>-9.540000e-07</td>\n",
              "    </tr>\n",
              "    <tr>\n",
              "      <th>4</th>\n",
              "      <td>-9.540000e-07</td>\n",
              "      <td>-0.000010</td>\n",
              "      <td>-0.000043</td>\n",
              "      <td>-0.000114</td>\n",
              "      <td>-0.000200</td>\n",
              "      <td>-0.000240</td>\n",
              "      <td>-0.000200</td>\n",
              "      <td>-0.000114</td>\n",
              "      <td>-0.000043</td>\n",
              "      <td>-0.000010</td>\n",
              "      <td>...</td>\n",
              "      <td>-0.000043</td>\n",
              "      <td>-0.000086</td>\n",
              "      <td>-0.000043</td>\n",
              "      <td>-0.000086</td>\n",
              "      <td>-0.000086</td>\n",
              "      <td>-0.000043</td>\n",
              "      <td>-0.000010</td>\n",
              "      <td>-0.000010</td>\n",
              "      <td>-0.000010</td>\n",
              "      <td>-9.540000e-07</td>\n",
              "    </tr>\n",
              "  </tbody>\n",
              "</table>\n",
              "<p>5 rows × 286 columns</p>\n",
              "</div>\n",
              "      <button class=\"colab-df-convert\" onclick=\"convertToInteractive('df-029870e4-14a7-40e2-9c4e-67650e3f7af4')\"\n",
              "              title=\"Convert this dataframe to an interactive table.\"\n",
              "              style=\"display:none;\">\n",
              "        \n",
              "  <svg xmlns=\"http://www.w3.org/2000/svg\" height=\"24px\"viewBox=\"0 0 24 24\"\n",
              "       width=\"24px\">\n",
              "    <path d=\"M0 0h24v24H0V0z\" fill=\"none\"/>\n",
              "    <path d=\"M18.56 5.44l.94 2.06.94-2.06 2.06-.94-2.06-.94-.94-2.06-.94 2.06-2.06.94zm-11 1L8.5 8.5l.94-2.06 2.06-.94-2.06-.94L8.5 2.5l-.94 2.06-2.06.94zm10 10l.94 2.06.94-2.06 2.06-.94-2.06-.94-.94-2.06-.94 2.06-2.06.94z\"/><path d=\"M17.41 7.96l-1.37-1.37c-.4-.4-.92-.59-1.43-.59-.52 0-1.04.2-1.43.59L10.3 9.45l-7.72 7.72c-.78.78-.78 2.05 0 2.83L4 21.41c.39.39.9.59 1.41.59.51 0 1.02-.2 1.41-.59l7.78-7.78 2.81-2.81c.8-.78.8-2.07 0-2.86zM5.41 20L4 18.59l7.72-7.72 1.47 1.35L5.41 20z\"/>\n",
              "  </svg>\n",
              "      </button>\n",
              "      \n",
              "  <style>\n",
              "    .colab-df-container {\n",
              "      display:flex;\n",
              "      flex-wrap:wrap;\n",
              "      gap: 12px;\n",
              "    }\n",
              "\n",
              "    .colab-df-convert {\n",
              "      background-color: #E8F0FE;\n",
              "      border: none;\n",
              "      border-radius: 50%;\n",
              "      cursor: pointer;\n",
              "      display: none;\n",
              "      fill: #1967D2;\n",
              "      height: 32px;\n",
              "      padding: 0 0 0 0;\n",
              "      width: 32px;\n",
              "    }\n",
              "\n",
              "    .colab-df-convert:hover {\n",
              "      background-color: #E2EBFA;\n",
              "      box-shadow: 0px 1px 2px rgba(60, 64, 67, 0.3), 0px 1px 3px 1px rgba(60, 64, 67, 0.15);\n",
              "      fill: #174EA6;\n",
              "    }\n",
              "\n",
              "    [theme=dark] .colab-df-convert {\n",
              "      background-color: #3B4455;\n",
              "      fill: #D2E3FC;\n",
              "    }\n",
              "\n",
              "    [theme=dark] .colab-df-convert:hover {\n",
              "      background-color: #434B5C;\n",
              "      box-shadow: 0px 1px 3px 1px rgba(0, 0, 0, 0.15);\n",
              "      filter: drop-shadow(0px 1px 2px rgba(0, 0, 0, 0.3));\n",
              "      fill: #FFFFFF;\n",
              "    }\n",
              "  </style>\n",
              "\n",
              "      <script>\n",
              "        const buttonEl =\n",
              "          document.querySelector('#df-029870e4-14a7-40e2-9c4e-67650e3f7af4 button.colab-df-convert');\n",
              "        buttonEl.style.display =\n",
              "          google.colab.kernel.accessAllowed ? 'block' : 'none';\n",
              "\n",
              "        async function convertToInteractive(key) {\n",
              "          const element = document.querySelector('#df-029870e4-14a7-40e2-9c4e-67650e3f7af4');\n",
              "          const dataTable =\n",
              "            await google.colab.kernel.invokeFunction('convertToInteractive',\n",
              "                                                     [key], {});\n",
              "          if (!dataTable) return;\n",
              "\n",
              "          const docLinkHtml = 'Like what you see? Visit the ' +\n",
              "            '<a target=\"_blank\" href=https://colab.research.google.com/notebooks/data_table.ipynb>data table notebook</a>'\n",
              "            + ' to learn more about interactive tables.';\n",
              "          element.innerHTML = '';\n",
              "          dataTable['output_type'] = 'display_data';\n",
              "          await google.colab.output.renderOutput(dataTable, element);\n",
              "          const docLink = document.createElement('div');\n",
              "          docLink.innerHTML = docLinkHtml;\n",
              "          element.appendChild(docLink);\n",
              "        }\n",
              "      </script>\n",
              "    </div>\n",
              "  </div>\n",
              "  "
            ]
          },
          "metadata": {},
          "execution_count": 30
        }
      ]
    },
    {
      "cell_type": "code",
      "source": [
        "from sklearn.decomposition import PCA\n",
        "from sklearn.preprocessing import StandardScaler\n",
        "from sklearn.preprocessing import MinMaxScaler\n",
        "ss = MinMaxScaler()\n",
        "X = ss.fit_transform(X)\n",
        "\n",
        "pca = PCA(n_components = 185)\n",
        "pca.fit(X)\n",
        "x_pca = pca.transform(X)\n",
        "x_pca.shape"
      ],
      "metadata": {
        "colab": {
          "base_uri": "https://localhost:8080/"
        },
        "id": "OqcjMdbSVZCF",
        "outputId": "f23ab55f-98fa-49ca-d0bd-8ebe41bb3bcf"
      },
      "execution_count": null,
      "outputs": [
        {
          "output_type": "execute_result",
          "data": {
            "text/plain": [
              "(123993, 185)"
            ]
          },
          "metadata": {},
          "execution_count": 32
        }
      ]
    },
    {
      "cell_type": "code",
      "source": [
        "X=x_pca"
      ],
      "metadata": {
        "id": "3HkTJ2iIWiPF"
      },
      "execution_count": null,
      "outputs": []
    },
    {
      "cell_type": "code",
      "source": [
        "from sklearn.model_selection import train_test_split\n",
        "X_train, X_test, Y_train, Y_test = train_test_split(X, Y, test_size = 0.25, random_state = 42)"
      ],
      "metadata": {
        "id": "Kz08nl6yZ5KB"
      },
      "execution_count": null,
      "outputs": []
    },
    {
      "cell_type": "code",
      "source": [
        "from sklearn.linear_model import LogisticRegression\n",
        "from sklearn import metrics\n",
        "\n",
        "logistic_reg = LogisticRegression(C = 1, solver='liblinear')\n",
        "logistic_reg.fit(X_train, Y_train)\n",
        "Y_pred_lr = logistic_reg.predict(X_test)\n",
        "print(\"Accuracy: \", metrics.accuracy_score(Y_test, Y_pred_lr))\n",
        "print(\"Precision: \", metrics.precision_score(Y_test, Y_pred_lr,average='micro'))\n",
        "print(\"Recall: \", metrics.recall_score(Y_test, Y_pred_lr,average='micro'))"
      ],
      "metadata": {
        "colab": {
          "base_uri": "https://localhost:8080/"
        },
        "id": "IuaSNN9rZ5mp",
        "outputId": "4240a669-ac93-4ebf-8e60-978953999824"
      },
      "execution_count": null,
      "outputs": [
        {
          "output_type": "stream",
          "name": "stdout",
          "text": [
            "Accuracy:  0.8772541049711281\n",
            "Precision:  0.8772541049711281\n",
            "Recall:  0.8772541049711281\n"
          ]
        }
      ]
    },
    {
      "cell_type": "code",
      "source": [
        "from sklearn import svm\n",
        "\n",
        "SVM = svm.SVC(kernel = 'linear', C = 1)\n",
        "SVM.fit(X_train, Y_train)\n",
        "Y_pred_sv = SVM.predict(X_test)\n",
        "print(\"Accuracy: \", metrics.accuracy_score(Y_test, Y_pred_sv))\n",
        "print(\"Precision: \", metrics.precision_score(Y_test, Y_pred_sv,average='micro'))\n",
        "print(\"Recall: \", metrics.recall_score(Y_test, Y_pred_sv,average='micro'))"
      ],
      "metadata": {
        "colab": {
          "base_uri": "https://localhost:8080/"
        },
        "id": "GTJVJM2OZ66b",
        "outputId": "d45f4fb0-d161-4573-d39c-feebe4435428"
      },
      "execution_count": null,
      "outputs": [
        {
          "output_type": "stream",
          "name": "stdout",
          "text": [
            "Accuracy:  0.8612213297203135\n",
            "Precision:  0.8612213297203135\n",
            "Recall:  0.8612213297203135\n"
          ]
        }
      ]
    },
    {
      "cell_type": "code",
      "source": [
        "from sklearn.linear_model import LogisticRegression\n",
        "from sklearn.model_selection import GridSearchCV\n",
        "\n",
        "log_reg= LogisticRegression()\n",
        "parameters = [{'penalty':['l1','l2']},\n",
        "              {'C':[1, 10, 100, 200]}]\n",
        "\n",
        "clf = GridSearchCV(estimator=log_reg, param_grid = parameters, scoring = 'accuracy',cv = 3, verbose=2, n_jobs=-1)\n",
        "best_clf = clf.fit(X_train,Y_train)\n",
        "\n",
        "best_clf.best_estimator_\n"
      ],
      "metadata": {
        "colab": {
          "base_uri": "https://localhost:8080/"
        },
        "id": "fvH-XADSCHha",
        "outputId": "ae859929-c3a1-44cb-b686-52039780e762"
      },
      "execution_count": null,
      "outputs": [
        {
          "output_type": "stream",
          "name": "stdout",
          "text": [
            "Fitting 3 folds for each of 6 candidates, totalling 18 fits\n"
          ]
        },
        {
          "output_type": "stream",
          "name": "stderr",
          "text": [
            "/usr/local/lib/python3.7/dist-packages/sklearn/model_selection/_validation.py:372: FitFailedWarning: \n",
            "3 fits failed out of a total of 18.\n",
            "The score on these train-test partitions for these parameters will be set to nan.\n",
            "If these failures are not expected, you can try to debug them by setting error_score='raise'.\n",
            "\n",
            "Below are more details about the failures:\n",
            "--------------------------------------------------------------------------------\n",
            "3 fits failed with the following error:\n",
            "Traceback (most recent call last):\n",
            "  File \"/usr/local/lib/python3.7/dist-packages/sklearn/model_selection/_validation.py\", line 680, in _fit_and_score\n",
            "    estimator.fit(X_train, y_train, **fit_params)\n",
            "  File \"/usr/local/lib/python3.7/dist-packages/sklearn/linear_model/_logistic.py\", line 1461, in fit\n",
            "    solver = _check_solver(self.solver, self.penalty, self.dual)\n",
            "  File \"/usr/local/lib/python3.7/dist-packages/sklearn/linear_model/_logistic.py\", line 449, in _check_solver\n",
            "    % (solver, penalty)\n",
            "ValueError: Solver lbfgs supports only 'l2' or 'none' penalties, got l1 penalty.\n",
            "\n",
            "  warnings.warn(some_fits_failed_message, FitFailedWarning)\n",
            "/usr/local/lib/python3.7/dist-packages/sklearn/model_selection/_search.py:972: UserWarning: One or more of the test scores are non-finite: [       nan 0.88389574 0.88389574 0.89281029 0.89629438 0.89654171]\n",
            "  category=UserWarning,\n",
            "/usr/local/lib/python3.7/dist-packages/sklearn/linear_model/_logistic.py:818: ConvergenceWarning: lbfgs failed to converge (status=1):\n",
            "STOP: TOTAL NO. of ITERATIONS REACHED LIMIT.\n",
            "\n",
            "Increase the number of iterations (max_iter) or scale the data as shown in:\n",
            "    https://scikit-learn.org/stable/modules/preprocessing.html\n",
            "Please also refer to the documentation for alternative solver options:\n",
            "    https://scikit-learn.org/stable/modules/linear_model.html#logistic-regression\n",
            "  extra_warning_msg=_LOGISTIC_SOLVER_CONVERGENCE_MSG,\n"
          ]
        },
        {
          "output_type": "execute_result",
          "data": {
            "text/plain": [
              "LogisticRegression(C=200)"
            ]
          },
          "metadata": {},
          "execution_count": 50
        }
      ]
    },
    {
      "cell_type": "code",
      "source": [
        "from sklearn.linear_model import LogisticRegression\n",
        "from sklearn import metrics\n",
        "\n",
        "logistic_reg = LogisticRegression(C=166, penalty='l1', solver='saga')\n",
        "logistic_reg.fit(X_train, Y_train)\n",
        "Y_pred_lr = logistic_reg.predict(X_test)\n",
        "print(\"Accuracy: \", metrics.accuracy_score(Y_test, Y_pred_lr))\n",
        "print(\"Precision: \", metrics.precision_score(Y_test, Y_pred_lr,average='micro'))\n",
        "print(\"Recall: \", metrics.recall_score(Y_test, Y_pred_lr,average='micro'))"
      ],
      "metadata": {
        "colab": {
          "base_uri": "https://localhost:8080/"
        },
        "id": "BaI-BbwXmHfV",
        "outputId": "10aaa55a-293e-4882-8495-b9687759525a"
      },
      "execution_count": null,
      "outputs": [
        {
          "output_type": "stream",
          "name": "stdout",
          "text": [
            "Accuracy:  0.9032549437078615\n",
            "Precision:  0.9032549437078615\n",
            "Recall:  0.9032549437078615\n"
          ]
        },
        {
          "output_type": "stream",
          "name": "stderr",
          "text": [
            "/usr/local/lib/python3.7/dist-packages/sklearn/linear_model/_sag.py:354: ConvergenceWarning: The max_iter was reached which means the coef_ did not converge\n",
            "  ConvergenceWarning,\n"
          ]
        }
      ]
    },
    {
      "cell_type": "code",
      "source": [
        "y_test_pred=logistic_reg.predict(X_test)\n",
        "y_train_pred=logistic_reg.predict(X_train)\n",
        "\n",
        "print(\"Accuracy train: \", metrics.accuracy_score(Y_train,y_train_pred))\n",
        "print(\"Accuracy test: \", metrics.accuracy_score(Y_test, y_test_pred))"
      ],
      "metadata": {
        "colab": {
          "base_uri": "https://localhost:8080/"
        },
        "id": "KlZZYaPc5aYg",
        "outputId": "2f78f00c-6239-465b-9125-c5d38a689e22"
      },
      "execution_count": null,
      "outputs": [
        {
          "output_type": "stream",
          "name": "stdout",
          "text": [
            "Accuracy train:  0.8749059079080371\n",
            "Accuracy test:  0.8730926804090454\n"
          ]
        }
      ]
    }
  ]
}
